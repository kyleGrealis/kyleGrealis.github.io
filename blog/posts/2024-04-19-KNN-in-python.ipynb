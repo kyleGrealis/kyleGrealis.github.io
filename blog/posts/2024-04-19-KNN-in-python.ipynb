{
  "cells": [
    {
      "cell_type": "raw",
      "metadata": {},
      "source": [
        "---\n",
        "title: \"Learning Machine Learning in Python - KNN\"\n",
        "image: /static/images/posts/quarto-hero.png\n",
        "author: \"Kyle Grealis\"\n",
        "date: April 19, 2024\n",
        "categories:\n",
        "  - Python\n",
        "  - Quarto\n",
        "  - Machine Learning\n",
        "format: \n",
        "  html:\n",
        "    embed-resources: true\n",
        "    code-fold: false\n",
        "    code-copy: true\n",
        "execute:\n",
        "  warning: false\n",
        "  message: false\n",
        "---"
      ],
      "id": "80e6a2af"
    },
    {
      "cell_type": "markdown",
      "metadata": {},
      "source": [
        "Euclidean Distance between two points: $\\sqrt{(x_2 - x_1)^2 + (y_2 - y_1)^2}$\n",
        "\n",
        "KNN is used to assign a new data point to a nearby cluster. One option is to measure the Euclidean distances of the new data point and existing data points and, using the predetermined *k* number of nearest neighbors, assign the new point to the cluster with $>k/2$ neighbors. \n",
        "\n",
        "## Import libraries\n"
      ],
      "id": "e8339cac"
    },
    {
      "cell_type": "code",
      "metadata": {},
      "source": [
        "import numpy as np\n",
        "import pandas as pd"
      ],
      "id": "3d3aa55d",
      "execution_count": null,
      "outputs": []
    },
    {
      "cell_type": "markdown",
      "metadata": {},
      "source": [
        "## Import dataset\n"
      ],
      "id": "9a12b52e"
    },
    {
      "cell_type": "code",
      "metadata": {},
      "source": [
        "dataset = pd.read_csv('data/Social_Network_Ads.csv')\n",
        "X = dataset.iloc[:, :-1].values\n",
        "y = dataset.iloc[:, -1].values"
      ],
      "id": "2e6cd668",
      "execution_count": null,
      "outputs": []
    },
    {
      "cell_type": "markdown",
      "metadata": {},
      "source": [
        "## Splitting the dataset to training & testing"
      ],
      "id": "4136c45c"
    },
    {
      "cell_type": "code",
      "metadata": {},
      "source": [
        "from sklearn.model_selection import train_test_split\n",
        "X_train, X_test, y_train, y_test = train_test_split(\n",
        "  X, y,\n",
        "  test_size=0.25,\n",
        "  random_state=0\n",
        ")"
      ],
      "id": "b58870b3",
      "execution_count": null,
      "outputs": []
    },
    {
      "cell_type": "markdown",
      "metadata": {},
      "source": [
        "## Feature scaling\n"
      ],
      "id": "1a75e26e"
    },
    {
      "cell_type": "code",
      "metadata": {},
      "source": [
        "from sklearn.preprocessing import StandardScaler\n",
        "sc = StandardScaler()\n",
        "X_train = sc.fit_transform(X_train)\n",
        "X_test = sc.fit_transform(X_test)"
      ],
      "id": "9f1caf13",
      "execution_count": null,
      "outputs": []
    },
    {
      "cell_type": "markdown",
      "metadata": {},
      "source": [
        "## Train & fit the KNN model\n"
      ],
      "id": "4bd23b59"
    },
    {
      "cell_type": "code",
      "metadata": {},
      "source": [
        "from sklearn.neighbors import KNeighborsClassifier\n",
        "classifier = KNeighborsClassifier(\n",
        "  n_neighbors=5,  # default\n",
        "  p=2,            # euclidean distance; default \n",
        "  metric='minkowski'\n",
        ")"
      ],
      "id": "a6afa18c",
      "execution_count": null,
      "outputs": []
    },
    {
      "cell_type": "code",
      "metadata": {},
      "source": [
        "classifier.fit(X_train, y_train)"
      ],
      "id": "a6a0f868",
      "execution_count": null,
      "outputs": []
    },
    {
      "cell_type": "markdown",
      "metadata": {},
      "source": [
        "## Predicting a new result\n",
        "\n",
        "30y/o $87k/yr -- first observation of X_test\n"
      ],
      "id": "8dd865db"
    },
    {
      "cell_type": "code",
      "metadata": {},
      "source": [
        "person = X_test[[0]]\n",
        "single_pred = classifier.predict(person)\n",
        "single_prob = classifier.predict_proba(person)\n",
        "print('1=\"Yes\", 0=\"No\"\\n')\n",
        "print(f'Single prediction for 30 y/o earning $87k/yr: {single_pred[0]} at a probability of {single_prob[0][0].round(3)}')"
      ],
      "id": "f52627c0",
      "execution_count": null,
      "outputs": []
    },
    {
      "cell_type": "markdown",
      "metadata": {},
      "source": [
        "## Predicting the test set results\n"
      ],
      "id": "617e140d"
    },
    {
      "cell_type": "code",
      "metadata": {},
      "source": [
        "y_pred = classifier.predict(X_test)\n",
        "# print(np.concatenate(\n",
        "#   (y_pred.reshape(len(y_pred), 1), y_test.reshape(len(y_test), 1)), 1\n",
        "# ))"
      ],
      "id": "e5759108",
      "execution_count": null,
      "outputs": []
    },
    {
      "cell_type": "markdown",
      "metadata": {},
      "source": [
        "## Creating the confusion matrix\n"
      ],
      "id": "7b491c16"
    },
    {
      "cell_type": "code",
      "metadata": {},
      "source": [
        "from sklearn.metrics import confusion_matrix, accuracy_score\n",
        "print(confusion_matrix(y_test, y_pred))\n",
        "print(f'Accuracy: {accuracy_score(y_test, y_pred)}')"
      ],
      "id": "9ea950f5",
      "execution_count": null,
      "outputs": []
    },
    {
      "cell_type": "markdown",
      "metadata": {},
      "source": [
        "## Visualizing the training set results\n"
      ],
      "id": "856a4a32"
    },
    {
      "cell_type": "code",
      "metadata": {},
      "source": [
        "import matplotlib.pyplot as plt\n",
        "from matplotlib.colors import ListedColormap\n",
        "X_set, y_set = sc.inverse_transform(X_train), y_train\n",
        "X1, X2 = np.meshgrid(np.arange(start = X_set[:, 0].min() - 10, stop = X_set[:, 0].max() + 10, step = 0.25),\n",
        "                     np.arange(start = X_set[:, 1].min() - 1000, stop = X_set[:, 1].max() + 1000, step = 0.25))\n",
        "plt.contourf(X1, X2, classifier.predict(sc.transform(np.array([X1.ravel(), X2.ravel()]).T)).reshape(X1.shape),\n",
        "             alpha = 0.75, cmap = ListedColormap(('red', 'green')))\n",
        "plt.xlim(X1.min(), X1.max())\n",
        "plt.ylim(X2.min(), X2.max())\n",
        "for i, j in enumerate(np.unique(y_set)):\n",
        "    plt.scatter(X_set[y_set == j, 0], X_set[y_set == j, 1], c = ListedColormap(('red', 'green'))(i), label = j)\n",
        "plt.title('KNN Regression (Training set)')\n",
        "plt.xlabel('Age')\n",
        "plt.ylabel('Estimated Salary')\n",
        "plt.legend()\n",
        "plt.show()"
      ],
      "id": "86406cf7",
      "execution_count": null,
      "outputs": []
    },
    {
      "cell_type": "markdown",
      "metadata": {},
      "source": [
        "## Visualizing the test set results\n"
      ],
      "id": "d45df1e8"
    },
    {
      "cell_type": "code",
      "metadata": {},
      "source": [
        "from matplotlib.colors import ListedColormap\n",
        "X_set, y_set = sc.inverse_transform(X_test), y_test\n",
        "X1, X2 = np.meshgrid(np.arange(start = X_set[:, 0].min() - 10, stop = X_set[:, 0].max() + 10, step = 0.25),\n",
        "                     np.arange(start = X_set[:, 1].min() - 1000, stop = X_set[:, 1].max() + 1000, step = 0.25))\n",
        "plt.contourf(X1, X2, classifier.predict(sc.transform(np.array([X1.ravel(), X2.ravel()]).T)).reshape(X1.shape),\n",
        "             alpha = 0.75, cmap = ListedColormap(('red', 'green')))\n",
        "plt.xlim(X1.min(), X1.max())\n",
        "plt.ylim(X2.min(), X2.max())\n",
        "for i, j in enumerate(np.unique(y_set)):\n",
        "    plt.scatter(X_set[y_set == j, 0], X_set[y_set == j, 1], c = ListedColormap(('red', 'green'))(i), label = j)\n",
        "plt.title('KNN Regression (Test set)')\n",
        "plt.xlabel('Age')\n",
        "plt.ylabel('Estimated Salary')\n",
        "plt.legend()\n",
        "plt.show()"
      ],
      "id": "a0565858",
      "execution_count": null,
      "outputs": []
    },
    {
      "cell_type": "code",
      "metadata": {},
      "source": [
        "# end"
      ],
      "id": "b09a31ef",
      "execution_count": null,
      "outputs": []
    }
  ],
  "metadata": {
    "kernelspec": {
      "name": "python3",
      "language": "python",
      "display_name": "Python 3 (ipykernel)"
    }
  },
  "nbformat": 4,
  "nbformat_minor": 5
}